{
 "cells": [
  {
   "cell_type": "code",
   "execution_count": 1,
   "metadata": {
    "collapsed": false
   },
   "outputs": [],
   "source": [
    "f1 = open('review_5k_user', 'r').read()\n",
    "review_5k_user = eval(f1)\n",
    "\n",
    "f2 = open('review_5k_business', 'r').read()\n",
    "review_5k_business = eval(f2)\n",
    "\n",
    "f3 = open('review_5k_rating', 'r').read()\n",
    "review_5k_rating = eval(f3)\n",
    "\n",
    "f4 = open('relation_5k', 'r').read()\n",
    "relation_5k = eval(f4)\n"
   ]
  },
  {
   "cell_type": "code",
   "execution_count": 23,
   "metadata": {
    "collapsed": false
   },
   "outputs": [],
   "source": [
    "import math\n",
    "import numpy as np\n",
    "from scipy.sparse import csr_matrix\n",
    "from sklearn.metrics import mean_squared_error\n",
    "import networkx as nx\n",
    "import matplotlib.pyplot as plt\n",
    "from time import time\n",
    "\n",
    "def matrix_factorization(R, P, Q, K, S, H, N, Si, steps=5000, alpha=0.0002, beta=0.02):\n",
    "    Q = Q.T\n",
    "    for step in xrange(steps):\n",
    "        for i in xrange(len(R)):\n",
    "            for j in xrange(len(R[i])):\n",
    "                if R[i][j] > 0:\n",
    "                    eij = R[i][j] - np.dot(P[i,:],Q[:,j])\n",
    "                    for k in xrange(K):\n",
    "                        P[i][k] = P[i][k] + alpha * (2 * eij * Q[k][j] * S[i][j] - beta * P[i][k])\n",
    "                        Q[k][j] = Q[k][j] + alpha * (2 * eij * P[i][k] * S[i][j]- beta * Q[k][j])\n",
    "            #for m in N[i]:\n",
    "            #    Eim=Si[i][m]-np.sum(P[i,:]*H*P[j,:]);\n",
    "            #    for k in xrange(K):\n",
    "            #        P[i][k]=P[i][k]+alpha*(2 * Eim * beta * H[k] * P[m][k]);\n",
    "            #       H[k]=H[k]+ alpha*(2 * Eim * beta * P[i][k] * P[m][k]);\n",
    "        eR = np.dot(P,Q)\n",
    "        e = 0\n",
    "        E= 0\n",
    "        for i in xrange(len(R)):\n",
    "            for j in xrange(len(R[i])):\n",
    "                if R[i][j] > 0:\n",
    "                    e = e + pow(R[i][j] - np.dot(P[i,:],Q[:,j]), 2)\n",
    "                    for k in xrange(K):\n",
    "                        e = e + (beta/2) * ( pow(P[i][k],2) + pow(Q[k][j],2) )\n",
    "            for m in N[i]:\n",
    "                E = E + pow(Si[i][m]-np.sum(P[i,:]*H*P[j,:]),2);\n",
    "        if e + E/2 < 0.001:\n",
    "            break\n",
    "    return P, Q.T, H"
   ]
  },
  {
   "cell_type": "code",
   "execution_count": 3,
   "metadata": {
    "collapsed": true
   },
   "outputs": [],
   "source": [
    "num_user = 4929\n",
    "num_business = 2686\n",
    "num_review = 49486\n",
    "Nij=[[]]*num_user;\n",
    "\n",
    "for r in relation_5k:\n",
    "    Nij[r[0]]=r[1];"
   ]
  },
  {
   "cell_type": "code",
   "execution_count": 4,
   "metadata": {
    "collapsed": false
   },
   "outputs": [],
   "source": [
    "row = np.array([])\n",
    "col = np.array([])\n",
    "val = np.array([])"
   ]
  },
  {
   "cell_type": "code",
   "execution_count": 5,
   "metadata": {
    "collapsed": false
   },
   "outputs": [],
   "source": [
    "Tij = csr_matrix((val,(row,col)), shape=(num_user,num_user)).toarray()\n",
    "for u in relation_5k:\n",
    "    for f in u[1]:\n",
    "        Tij[u[0]][f] = 1"
   ]
  },
  {
   "cell_type": "code",
   "execution_count": 6,
   "metadata": {
    "collapsed": false
   },
   "outputs": [],
   "source": [
    "none_zero=[];\n",
    "Rij = csr_matrix((val,(row,col)), shape=(num_user,num_business)).toarray()\n",
    "for r in xrange(num_review):\n",
    "    Rij[review_5k_user[r]][review_5k_business[r]] = review_5k_rating[r];\n",
    "    none_zero.append([review_5k_user[r],review_5k_business[r]]);"
   ]
  },
  {
   "cell_type": "code",
   "execution_count": 7,
   "metadata": {
    "collapsed": false
   },
   "outputs": [],
   "source": [
    "Sij_norm = []\n",
    "for u in xrange(num_user):\n",
    "    Sij_norm.append(math.sqrt(np.dot(Rij[u], Rij[u])))"
   ]
  },
  {
   "cell_type": "code",
   "execution_count": 8,
   "metadata": {
    "collapsed": false
   },
   "outputs": [],
   "source": [
    "Sij = np.dot(Rij, Rij.T)"
   ]
  },
  {
   "cell_type": "code",
   "execution_count": 9,
   "metadata": {
    "collapsed": false
   },
   "outputs": [],
   "source": [
    "for i in xrange(num_user):\n",
    "    for j in xrange(num_user):\n",
    "        if Sij_norm[i] and Sij_norm[j]:\n",
    "            Sij[i][j] = Sij[i][j]/Sij_norm[i]/Sij_norm[j]\n",
    "        else:\n",
    "            Sij[i][j]=0"
   ]
  },
  {
   "cell_type": "code",
   "execution_count": 10,
   "metadata": {
    "collapsed": false
   },
   "outputs": [
    {
     "name": "stdout",
     "output_type": "stream",
     "text": [
      "[ 1.          0.          0.         ...,  0.          0.07236504  0.        ]\n"
     ]
    }
   ],
   "source": [
    "print Sij[0][:]"
   ]
  },
  {
   "cell_type": "code",
   "execution_count": 10,
   "metadata": {
    "collapsed": false
   },
   "outputs": [],
   "source": [
    "import networkx as nx\n",
    "\n",
    "node_list = []\n",
    "for u in xrange(num_user):\n",
    "    node_list.append(u)"
   ]
  },
  {
   "cell_type": "code",
   "execution_count": 11,
   "metadata": {
    "collapsed": false
   },
   "outputs": [],
   "source": [
    "G=nx.Graph()\n",
    "G.add_nodes_from(node_list)\n",
    "for u in relation_5k:\n",
    "    for f in u[1]:\n",
    "        G.add_edge(u[0], f)"
   ]
  },
  {
   "cell_type": "code",
   "execution_count": 12,
   "metadata": {
    "collapsed": false
   },
   "outputs": [],
   "source": [
    "PR = nx.pagerank(G)"
   ]
  },
  {
   "cell_type": "code",
   "execution_count": 13,
   "metadata": {
    "collapsed": false
   },
   "outputs": [],
   "source": [
    "from operator import itemgetter\n",
    "sorted_PR = sorted(PR.items(), key=itemgetter(1), reverse=True)\n"
   ]
  },
  {
   "cell_type": "code",
   "execution_count": 14,
   "metadata": {
    "collapsed": false
   },
   "outputs": [],
   "source": [
    "rank = {}\n",
    "for u in xrange(num_user):\n",
    "    rank[sorted_PR[u][0]] = u"
   ]
  },
  {
   "cell_type": "code",
   "execution_count": 15,
   "metadata": {
    "collapsed": false
   },
   "outputs": [],
   "source": [
    "Ri = []\n",
    "for u in xrange(num_user):\n",
    "    Ri.append(rank[u]+1)"
   ]
  },
  {
   "cell_type": "code",
   "execution_count": 16,
   "metadata": {
    "collapsed": false
   },
   "outputs": [],
   "source": [
    "Wij = csr_matrix((val,(row,col)), shape=(num_user,num_business)).toarray()\n",
    "for i in xrange(num_user):\n",
    "    for j in xrange(num_business):\n",
    "        if Rij[i][j] > 0:\n",
    "            Wij[i][j] = math.sqrt(Ri[i])"
   ]
  },
  {
   "cell_type": "code",
   "execution_count": 24,
   "metadata": {
    "collapsed": false
   },
   "outputs": [
    {
     "name": "stderr",
     "output_type": "stream",
     "text": [
      "C:\\ProgramData\\Anaconda2\\lib\\site-packages\\ipykernel\\__main__.py:24: DeprecationWarning: using a non-integer number instead of an integer will result in an error in the future\n"
     ]
    },
    {
     "name": "stdout",
     "output_type": "stream",
     "text": [
      "1.03513584469\n"
     ]
    }
   ],
   "source": [
    "def performance(P, Q, R, none_zero):\n",
    "    num=len(none_zero)\n",
    "    Q=Q.T;\n",
    "    r=np.dot(P,Q);\n",
    "    error=0;\n",
    "    for p in none_zero:\n",
    "        i=p[0];\n",
    "        j=p[1];\n",
    "        error+=(R[i][j]-r[i][j])*(R[i][j]-r[i][j]);\n",
    "        #print R[i][j]-r[i][j]\n",
    "    error=math.sqrt(error/num);\n",
    "    return error;\n",
    "    \n",
    "n=10;\n",
    "testnum=num_review*0.1;\n",
    "times=1;\n",
    "total=len(none_zero);\n",
    "k=8;\n",
    "rmse=0.;\n",
    "steps=10;\n",
    "start=time();\n",
    "true_times=0;\n",
    "for x in xrange(times):\n",
    "    chose=np.random.randint(0,total,size=testnum);\n",
    "    not_chose=list(set(range(0,total))-set(chose));\n",
    "    trainmat = np.copy(Rij)\n",
    "    train_none_zero=list(none_zero[i] for i in not_chose);\n",
    "    for p in chose:\n",
    "        i=none_zero[p][0];\n",
    "        j=none_zero[p][1];\n",
    "        trainmat[i][j]=0;\n",
    "    test_none_zero=list(none_zero[i] for i in chose);\n",
    "    P = np.random.rand(num_user,k);\n",
    "    Q = np.random.rand(num_business,k);\n",
    "    H = np.random.rand(k)\n",
    "    nP, nQ , nH= matrix_factorization(trainmat, P, Q, k, Wij, H, Nij, Sij, steps, 0.0002, 0.2);\n",
    "    #nP, nQ = changed_matrix_factorization(ratemat, P, Q, k, train_none_zero, steps, 0.01);\n",
    "    rmse+=performance(nP,nQ,Rij,test_none_zero);\n",
    "    true_times+=1;\n",
    "    if(time()-start>36):\n",
    "        break;\n",
    "    \n",
    "print rmse/true_times;"
   ]
  },
  {
   "cell_type": "code",
   "execution_count": 73,
   "metadata": {
    "collapsed": false
   },
   "outputs": [
    {
     "name": "stdout",
     "output_type": "stream",
     "text": [
      "[ 5.44624646  6.4309799   6.4426096   7.4459624   7.10042252  6.18539953\n",
      "  5.94344888  6.43881055  5.86717316  7.55870824  7.65267952  7.11484289\n",
      "  7.0421867   7.26567287  6.71465661  9.55555544  6.1752896   6.52197278\n",
      "  5.66845841  6.48178143  4.75684367  5.62385368  5.54143585  7.29503414\n",
      "  4.74026079  6.66985384  6.80857198  6.53989149  6.19676978  5.24858402\n",
      "  5.58417099  7.28232536  6.29716209  7.2690556   5.89677317  6.45558601\n",
      "  6.61861048  6.98097843  7.03129578  5.93956293  5.44406548  6.44154849\n",
      "  6.90988789  6.19209653  6.93528806  5.78069995  6.5811211   6.45433347\n",
      "  7.23929709  5.51324454  5.33760163  4.87750364  7.88634849  6.3221905\n",
      "  6.59827536  7.18643478  5.96857461  7.59698597  5.56955314  5.95928458\n",
      "  6.10061315  6.7509699   6.18429604  6.60495092  6.99774896  7.59341558\n",
      "  6.88182675  5.09127157  6.65404848  6.50656668  7.02767555  7.4516433\n",
      "  6.11832209  7.05960922  5.65732158  5.3612169   5.27338469  7.42949251\n",
      "  6.55642675  5.70559171  6.10202425  7.5723179   7.16295534  7.72948303\n",
      "  5.8147846   6.77719923  6.20806656  4.77886545  6.75409708  5.2953153\n",
      "  6.99280565  6.53307336  6.08751691  6.25897449  7.7743339   6.58068411\n",
      "  6.61960057  5.92281929  5.24889576  6.91684711]\n"
     ]
    }
   ],
   "source": [
    "print np.dot(nP,nQ.T)[0][0:100]"
   ]
  }
 ],
 "metadata": {
  "kernelspec": {
   "display_name": "Python 2",
   "language": "python",
   "name": "python2"
  },
  "language_info": {
   "codemirror_mode": {
    "name": "ipython",
    "version": 2
   },
   "file_extension": ".py",
   "mimetype": "text/x-python",
   "name": "python",
   "nbconvert_exporter": "python",
   "pygments_lexer": "ipython2",
   "version": "2.7.13"
  }
 },
 "nbformat": 4,
 "nbformat_minor": 0
}
