{
 "cells": [
  {
   "cell_type": "code",
   "execution_count": 1,
   "metadata": {
    "collapsed": false
   },
   "outputs": [
    {
     "name": "stderr",
     "output_type": "stream",
     "text": [
      "numbapro:1: ImportWarning: The numbapro package is deprecated in favour of the accelerate package. Please update your code to use equivalent functions from accelerate.\n"
     ]
    }
   ],
   "source": [
    "import numpy as np\n",
    "import matplotlib.pyplot as plt\n",
    "import math\n",
    "\n",
    "o = open('rating_subset_training.data', 'r').read()\n",
    "rating = eval(o)\n",
    "\n",
    "#naive python one\n",
    "def matrix_factorization(R, P, Q, K, steps=5000, alpha=0.0002, beta=0.02):\n",
    "    Q = Q.T\n",
    "    for step in xrange(steps):\n",
    "        for i in xrange(len(R)):\n",
    "            for j in xrange(len(R[i])):\n",
    "                if R[i][j] > 0:\n",
    "                    eij = R[i][j] - np.dot(P[i,:],Q[:,j])\n",
    "                    for k in xrange(K):\n",
    "                        P[i][k] = P[i][k] + alpha * (2 * eij * Q[k][j] - beta * P[i][k])\n",
    "                        Q[k][j] = Q[k][j] + alpha * (2 * eij * P[i][k] - beta * Q[k][j])\n",
    "        eR = np.dot(P,Q)\n",
    "        e = 0\n",
    "        for i in xrange(len(R)):\n",
    "            for j in xrange(len(R[i])):\n",
    "                if R[i][j] > 0:\n",
    "                    e = e + pow(R[i][j] - np.dot(P[i,:],Q[:,j]), 2)\n",
    "                    for k in xrange(K):\n",
    "                        e = e + (beta/2) * ( pow(P[i][k],2) + pow(Q[k][j],2) )\n",
    "        if e < 0.001:\n",
    "            break\n",
    "    return P, Q.T\n",
    "\n",
    "def changed_matrix_factorization(R, P, Q, K, none_zero, steps=5000, alpha=0.0002, beta=0.02):\n",
    "    Q = Q.T\n",
    "    for step in xrange(steps):\n",
    "        eR = np.dot(P,Q);\n",
    "        e = 0;\n",
    "        for p in none_zero:\n",
    "            i=p[0];\n",
    "            j=p[1];\n",
    "            e = e + pow(R[i][j] - eR[i][j], 2)\n",
    "            for k in xrange(K):\n",
    "                e = e + (beta/2) * ( pow(P[i][k],2) + pow(Q[k][j],2) )\n",
    "        if e < 0.001:\n",
    "            break\n",
    "        for p in none_zero:\n",
    "            i=p[0];\n",
    "            j=p[1];\n",
    "            eij = R[i][j] - eR[i][j]\n",
    "            for k in xrange(K):\n",
    "                P[i][k] = P[i][k] + alpha * (2 * eij * Q[k][j] - beta * P[i][k])\n",
    "                Q[k][j] = Q[k][j] + alpha * (2 * eij * P[i][k] - beta * Q[k][j])\n",
    "    return P, Q.T\n",
    "\n",
    "def rmse_cal(R,P,Q,none_zero,num):\n",
    "    Q=Q.T;\n",
    "    r=np.dot(P,Q);\n",
    "    error=0;\n",
    "    for p in none_zero:\n",
    "        i=p[0];\n",
    "        j=p[1];\n",
    "        error+=(R[i][j]-r[i][j])*(R[i][j]-r[i][j]);\n",
    "    error=math.sqrt(error/num);\n",
    "    return error;\n",
    "\n",
    "#gpu one\n",
    "from numbapro import guvectorize\n",
    "from numpy import arange\n",
    "\n",
    "@guvectorize(['void(float64[:,:], float64[:,:], float64[:,:])'],\n",
    "             '(m,n),(n,p)->(m,p)')\n",
    "def matmul(A, B, C):\n",
    "    m, n = A.shape\n",
    "    n, p = B.shape\n",
    "    for i in range(m):\n",
    "        for j in range(p):\n",
    "            C[i, j] = 0\n",
    "            for k in range(n):\n",
    "                C[i, j] += A[i, k] * B[k, j]\n",
    "                \n",
    "def gpu_matrix_factorization(R, P, Q, K, none_zero, steps=5000, alpha=0.0002, beta=0.02):\n",
    "    Q = Q.T\n",
    "    for step in xrange(steps):\n",
    "        eR = matmul(P,Q);\n",
    "        e = 0;\n",
    "        for p in none_zero:\n",
    "            i=p[0];\n",
    "            j=p[1];\n",
    "            e = e + pow(R[i][j] - eR[i][j], 2)\n",
    "            for k in xrange(K):\n",
    "                e = e + (beta/2) * ( pow(P[i][k],2) + pow(Q[k][j],2) )\n",
    "        if e < 0.001:\n",
    "            break\n",
    "        for p in none_zero:\n",
    "            i=p[0];\n",
    "            j=p[1];\n",
    "            eij = R[i][j] - eR[i][j]\n",
    "            for k in xrange(K):\n",
    "                P[i][k] = P[i][k] + alpha * (2 * eij * Q[k][j] - beta * P[i][k])\n",
    "                Q[k][j] = Q[k][j] + alpha * (2 * eij * P[i][k] - beta * Q[k][j])\n",
    "    return P, Q.T\n",
    "\n",
    "def gpu_rmse_cal(R,P,Q,none_zero,num):\n",
    "    Q=Q.T;\n",
    "    r=matmul(P,Q);\n",
    "    error=0;\n",
    "    for p in none_zero:\n",
    "        i=p[0];\n",
    "        j=p[1];\n",
    "        error+=(R[i][j]-r[i][j])*(R[i][j]-r[i][j]);\n",
    "    error=math.sqrt(error/num);\n",
    "    return error;"
   ]
  },
  {
   "cell_type": "code",
   "execution_count": 93,
   "metadata": {
    "collapsed": false
   },
   "outputs": [
    {
     "name": "stdout",
     "output_type": "stream",
     "text": [
      "[[ 3.79874174  1.73085129  1.83778259  2.66132276]\n",
      " [ 3.30893252  1.3032631   0.71431249  1.53384048]\n",
      " [ 2.04724372  1.47019034  3.32100346  3.49621944]\n",
      " [ 2.16570415  1.2856489   2.34390223  2.66402135]\n",
      " [ 1.72714985  1.62085249  4.45206227  4.40967497]]\n"
     ]
    }
   ],
   "source": [
    "R = [[5,3,0,1],[4,0,0,1],[1,1,0,5],[1,0,0,4],[0,1,5,4],]\n",
    "\n",
    "R = np.array(R)\n",
    "\n",
    "N = len(R)\n",
    "M = len(R[0])\n",
    "K = 2\n",
    "\n",
    "P = np.random.rand(N,K)\n",
    "Q = np.random.rand(M,K)\n",
    "\n",
    "nP, nQ = matrix_factorization(R, P, Q, K,200, 0.001)\n",
    "print np.dot(nP,nQ.T)"
   ]
  },
  {
   "cell_type": "code",
   "execution_count": 4,
   "metadata": {
    "collapsed": false
   },
   "outputs": [],
   "source": [
    "from timeit import default_timer as timer\n",
    "\n",
    "user=[];\n",
    "item=[];\n",
    "user2idx={};\n",
    "item2idx={};\n",
    "countuser=0;\n",
    "countitem=0;\n",
    "total=0.;\n",
    "\n",
    "num=10000;\n",
    "steps=200;\n",
    "begin=2;\n",
    "end=61;\n",
    "none_zero=[];\n",
    "for rate in rating[0:num]:\n",
    "    total+=rate[3];\n",
    "    if rate[1] in user2idx:\n",
    "        useridx=user2idx[rate[1]];\n",
    "        uni=user[useridx];\n",
    "        uni[0]+=rate[3];\n",
    "        uni[1]+=1.;\n",
    "        user[useridx]=uni;\n",
    "    else:\n",
    "        uni=[];\n",
    "        uni.append(0.);\n",
    "        uni.append(1.);\n",
    "        uni[0]+=rate[3];\n",
    "        user.append(uni);\n",
    "        user2idx[rate[1]]=countuser;\n",
    "        countuser+=1;\n",
    "    if rate[2] in item2idx:\n",
    "        itemidx=item2idx[rate[2]];\n",
    "        uni=item[itemidx];\n",
    "        uni[0]+=rate[3];\n",
    "        uni[1]+=1.;\n",
    "        item[itemidx]=uni;\n",
    "    else:\n",
    "        uni=[];\n",
    "        uni.append(0.);\n",
    "        uni.append(1.);\n",
    "        uni[0]+=rate[3];\n",
    "        item.append(uni);\n",
    "        item2idx[rate[2]]=countitem;\n",
    "        countitem+=1;\n",
    "        \n",
    "for x in xrange(countuser):\n",
    "    user[x][0]/=user[x][1];\n",
    "    \n",
    "for i in xrange(countitem):\n",
    "    item[i][0]/=item[i][1];\n",
    "    \n",
    "miu=total/num;\n",
    "ratemat=np.zeros((countuser,countitem));\n",
    "for rate in rating[0:num]:\n",
    "    useridx=user2idx[rate[1]];\n",
    "    itemidx=item2idx[rate[2]];\n",
    "    none_zero.append([useridx,itemidx]);\n",
    "    ratemat[useridx][itemidx]=rate[3]#-(user[useridx][0]+item[itemidx][0]-miu);"
   ]
  },
  {
   "cell_type": "code",
   "execution_count": 5,
   "metadata": {
    "collapsed": false
   },
   "outputs": [
    {
     "name": "stderr",
     "output_type": "stream",
     "text": [
      "C:\\ProgramData\\Anaconda2\\lib\\site-packages\\ipykernel\\__main__.py:27: DeprecationWarning: using a non-integer number instead of an integer will result in an error in the future\n"
     ]
    },
    {
     "name": "stdout",
     "output_type": "stream",
     "text": [
      "0.109730407631\n"
     ]
    }
   ],
   "source": [
    "#if steps=100, rate=0.01, num=100,  25 is best for k\n",
    "#if steps=200, rate=0.001, num=500, 30 is best for k\n",
    "#if steps=200, rate=0.001, num=1000, 30 or 40 is best for k\n",
    "\n",
    "#use k as 30, do n-fold to see the performance\n",
    "def performance(P, Q, R, none_zero):\n",
    "    num=len(none_zero)\n",
    "    Q=Q.T;\n",
    "    r=np.dot(P,Q);\n",
    "    error=0;\n",
    "    for p in none_zero:\n",
    "        i=p[0];\n",
    "        j=p[1];\n",
    "        error+=(R[i][j]-r[i][j])*(R[i][j]-r[i][j]);\n",
    "        #print R[i][j]-r[i][j]\n",
    "    error=math.sqrt(error/num);\n",
    "    return error;\n",
    "    \n",
    "n=10;\n",
    "testnum=num*0.1;\n",
    "times=1;\n",
    "total=len(none_zero);\n",
    "k=30;\n",
    "rmse=0.;\n",
    "\n",
    "for x in xrange(times):\n",
    "    chose=np.random.randint(0,total,size=testnum);\n",
    "    not_chose=list(set(range(0,total))-set(chose));\n",
    "    trainmat = np.copy(ratemat)\n",
    "    train_none_zero=list(none_zero[i] for i in not_chose);\n",
    "    for p in chose:\n",
    "        i=none_zero[p][0];\n",
    "        j=none_zero[p][1];\n",
    "        trainmat[i][j]=0;\n",
    "    test_none_zero=list(none_zero[i] for i in chose);\n",
    "    P = np.random.rand(countuser,k);\n",
    "    Q = np.random.rand(countitem,k);\n",
    "    nP, nQ = matrix_factorization(trainmat, P, Q, k, steps, 0.001);\n",
    "    #nP, nQ = changed_matrix_factorization(ratemat, P, Q, k, train_none_zero, steps, 0.01);\n",
    "    rmse+=performance(nP,nQ,ratemat,train_none_zero);\n",
    "    \n",
    "print rmse/times;"
   ]
  },
  {
   "cell_type": "code",
   "execution_count": 61,
   "metadata": {
    "collapsed": false
   },
   "outputs": [
    {
     "name": "stdout",
     "output_type": "stream",
     "text": [
      "finished in 180.393401 s\n"
     ]
    },
    {
     "data": {
      "image/png": "[encoded data removed]",
      "text/plain": [
       "<matplotlib.figure.Figure at 0x23699b00>"
      ]
     },
     "metadata": {},
     "output_type": "display_data"
    }
   ],
   "source": [
    "#naive python\n",
    "#choose K\n",
    "\n",
    "start = timer()\n",
    "rmse=[];\n",
    "for k in range(begin,end):\n",
    "    P = np.random.rand(countuser,k);\n",
    "    Q = np.random.rand(countitem,k);\n",
    "    nP, nQ = changed_matrix_factorization(ratemat, P, Q, k,none_zero, steps, 0.001)\n",
    "    #nP, nQ = matrix_factorization(ratemat, P, Q, k, steps, 0.001)\n",
    "    error=rmse_cal(ratemat,nP,nQ,none_zero,num);\n",
    "    rmse.append(error);\n",
    "    \n",
    "dt = timer() - start\n",
    "print \"finished in %f s\" % dt\n",
    "\n",
    "K=range(begin,end);\n",
    "plt.plot(K, rmse, 'ro');\n",
    "plt.show();"
   ]
  },
  {
   "cell_type": "code",
   "execution_count": null,
   "metadata": {
    "collapsed": true
   },
   "outputs": [],
   "source": [
    "#if steps=100, rate=0.01, num=100,  25 is best for k\n",
    "#if steps=200, rate=0.001, num=500, 30 is best for k\n",
    "#if steps=200, rate=0.001, num=1000, 30 is best for k"
   ]
  },
  {
   "cell_type": "code",
   "execution_count": 62,
   "metadata": {
    "collapsed": false
   },
   "outputs": [
    {
     "name": "stdout",
     "output_type": "stream",
     "text": [
      "finished in 183.312216 s\n"
     ]
    },
    {
     "data": {
      "image/png": "[encoded data removed]",
      "text/plain": [
       "<matplotlib.figure.Figure at 0x1d8bea90>"
      ]
     },
     "metadata": {},
     "output_type": "display_data"
    }
   ],
   "source": [
    "#gpu numbapro\n",
    "#choose K\n",
    "\n",
    "start = timer()\n",
    "rmse=[];\n",
    "for k in range(begin,end):\n",
    "    P = np.random.rand(countuser,k);\n",
    "    Q = np.random.rand(countitem,k);\n",
    "    nP, nQ = gpu_matrix_factorization(ratemat, P, Q, k,none_zero, steps, 0.001)\n",
    "    error=gpu_rmse_cal(ratemat,nP,nQ,none_zero,num);\n",
    "    rmse.append(error);\n",
    "    \n",
    "dt = timer() - start\n",
    "print \"finished in %f s\" % dt\n",
    "\n",
    "K=range(begin,end);\n",
    "plt.plot(K, rmse, 'ro');\n",
    "plt.show();"
   ]
  }
 ],
 "metadata": {
  "kernelspec": {
   "display_name": "Python 2",
   "language": "python",
   "name": "python2"
  },
  "language_info": {
   "codemirror_mode": {
    "name": "ipython",
    "version": 2
   },
   "file_extension": ".py",
   "mimetype": "text/x-python",
   "name": "python",
   "nbconvert_exporter": "python",
   "pygments_lexer": "ipython2",
   "version": "2.7.13"
  }
 },
 "nbformat": 4,
 "nbformat_minor": 2
}
