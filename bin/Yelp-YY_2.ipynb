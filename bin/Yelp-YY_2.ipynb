{
 "cells": [
  {
   "cell_type": "code",
   "execution_count": 1,
   "metadata": {
    "collapsed": false
   },
   "outputs": [],
   "source": [
    "f = open('../new_5k/5k-data', 'r')\n",
    "business_name = eval(f.readline())\n",
    "business_avg = eval(f.readline())\n",
    "user_name = eval(f.readline())\n",
    "user_avg = eval(f.readline())\n",
    "\n",
    "f = open('../new_5k/5k-relation', 'r').read()\n",
    "relation = eval(f)\n",
    "\n",
    "f = open('../new_5k/5k-review', 'r')\n",
    "review5k_business = eval(f.readline())\n",
    "review5k_user = eval(f.readline())\n",
    "review5k_rating = eval(f.readline())\n",
    "review5k_text = eval(f.readline())"
   ]
  },
  {
   "cell_type": "code",
   "execution_count": 2,
   "metadata": {
    "collapsed": true
   },
   "outputs": [],
   "source": [
    "import random \n",
    "import math\n",
    "import numpy as np\n",
    "from operator import itemgetter\n",
    "from scipy.sparse import csr_matrix\n",
    "from sklearn.decomposition import NMF\n",
    "from sklearn.utils.extmath import randomized_svd\n",
    "from sklearn.decomposition import TruncatedSVD\n",
    "from scipy.sparse.linalg import svds\n",
    "from sklearn.metrics import mean_squared_error\n",
    "\n",
    "from sklearn.feature_extraction.text import TfidfVectorizer, CountVectorizer\n",
    "from sklearn.decomposition import NMF, LatentDirichletAllocation\n",
    "from nltk.tokenize import RegexpTokenizer\n",
    "from stop_words import get_stop_words\n",
    "from nltk.stem.porter import PorterStemmer\n"
   ]
  },
  {
   "cell_type": "markdown",
   "metadata": {},
   "source": [
    "<h1>Parameters</h1>"
   ]
  },
  {
   "cell_type": "code",
   "execution_count": 3,
   "metadata": {
    "collapsed": false
   },
   "outputs": [],
   "source": [
    "random_test = random.sample(xrange(len(review5k_rating)), 1000)\n",
    "\n",
    "train_user = []\n",
    "train_business = []\n",
    "train_rating = []\n",
    "train_text = []\n",
    "\n",
    "test_user = []\n",
    "test_business = []\n",
    "test_rating = []\n",
    "\n",
    "for r in xrange(len(review5k_rating)):\n",
    "    if r in random_test:\n",
    "        test_user.append(review5k_user[r])\n",
    "        test_business.append(review5k_business[r])\n",
    "        test_rating.append(review5k_rating[r])\n",
    "    else:\n",
    "        train_user.append(review5k_user[r])\n",
    "        train_business.append(review5k_business[r])\n",
    "        train_rating.append(review5k_rating[r])\n",
    "        train_text.append(review5k_text[r])\n",
    "        \n",
    "K_topic = 10\n",
    "Times = 50\n",
    "DocWord = 300\n",
    "DocTopic = 5\n",
    "\n",
    "lbd0 = 0.5 # Topic effect\n",
    "lbd1 = 0.5 # Similarity effect \n",
    "lbd2 = 0.5 # relation afftect\n",
    "lbd3 = 0.5 # VIP effect\n",
    "lbd4 = 0.5 # Topic effect in Tri-model\n",
    "lbd5 = 0.5 # VIP effect in Tri-model"
   ]
  },
  {
   "cell_type": "markdown",
   "metadata": {},
   "source": [
    "<h1>Initialization</h1>"
   ]
  },
  {
   "cell_type": "code",
   "execution_count": 4,
   "metadata": {
    "collapsed": false
   },
   "outputs": [],
   "source": [
    "num_user = len(user_avg)\n",
    "num_business = len(business_avg)\n",
    "num_train = len(train_rating)\n",
    "num_test = len(test_rating)\n",
    "\n",
    "mu = np.mean(train_rating)\n",
    "\n",
    "def float2int(f):\n",
    "    if f < 1.5: return 1\n",
    "    if f < 2.5: return 2\n",
    "    if f < 3.5: return 3\n",
    "    if f < 4.5: return 4\n",
    "    return 5\n",
    "\n",
    "tokenizer = RegexpTokenizer(r'\\w+')\n",
    "en_stop = get_stop_words('en')\n",
    "p_stemmer = PorterStemmer()\n",
    "\n",
    "def prep(doc):\n",
    "    raw = doc.lower().replace(\"\\n\", \"\").replace(\"\\t\", \"\")\n",
    "    tokens = tokenizer.tokenize(raw)\n",
    "    stopped_tokens = [i for i in tokens if not i in en_stop]\n",
    "    texts = [p_stemmer.stem(i) for i in stopped_tokens]\n",
    "    return (\" \").join(texts)\n",
    "\n",
    "from sklearn import linear_model\n",
    "def MLR(X, Y):\n",
    "    reg = linear_model.LinearRegression()\n",
    "    reg.fit(X, Y)\n",
    "    return reg.coef_"
   ]
  },
  {
   "cell_type": "markdown",
   "metadata": {},
   "source": [
    "<h1>Basic Model</h1>"
   ]
  },
  {
   "cell_type": "code",
   "execution_count": 5,
   "metadata": {
    "collapsed": true
   },
   "outputs": [],
   "source": [
    "Ubb = []\n",
    "for i in xrange(num_user):\n",
    "    Ubb.append([])\n",
    "    for j in xrange(num_business):\n",
    "        val = user_avg[i] + business_avg[j] - mu\n",
    "        if val < 1: val = 1\n",
    "        if val > 5: val = 5\n",
    "        Ubb[i].append(val) "
   ]
  },
  {
   "cell_type": "code",
   "execution_count": 6,
   "metadata": {
    "collapsed": false
   },
   "outputs": [
    {
     "name": "stdout",
     "output_type": "stream",
     "text": [
      "0.797813188355\n"
     ]
    }
   ],
   "source": [
    "UbbPd = []\n",
    "for r in xrange(num_test):\n",
    "    UbbPd.append(Ubb[test_user[r]][test_business[r]]) \n",
    "\n",
    "Ubb_rmse = mean_squared_error(test_rating, UbbPd)  \n",
    "\n",
    "print Ubb_rmse\n"
   ]
  },
  {
   "cell_type": "code",
   "execution_count": 7,
   "metadata": {
    "collapsed": false
   },
   "outputs": [],
   "source": [
    "BasicIn = []\n",
    "for i in xrange(num_user):\n",
    "    BasicIn.append([])\n",
    "    for j in xrange(num_business):\n",
    "        val = user_avg[i] + business_avg[j] - mu\n",
    "        if val < 1: val = 1\n",
    "        if val > 5: val = 5\n",
    "        BasicIn[i].append(val) \n",
    "        \n",
    "for r in xrange(num_train):\n",
    "    BasicIn[train_user[r]][train_business[r]] = train_rating[r]\n"
   ]
  },
  {
   "cell_type": "code",
   "execution_count": 8,
   "metadata": {
    "collapsed": true
   },
   "outputs": [],
   "source": [
    "model = NMF(n_components=K_topic, init='random', random_state=0)\n",
    "U = model.fit_transform(BasicIn);\n",
    "V = model.components_;\n",
    "BasicOut = np.dot(U,V)"
   ]
  },
  {
   "cell_type": "code",
   "execution_count": 9,
   "metadata": {
    "collapsed": false
   },
   "outputs": [
    {
     "name": "stdout",
     "output_type": "stream",
     "text": [
      "0.790739427562\n"
     ]
    }
   ],
   "source": [
    "BasicPd = []\n",
    "for r in xrange(num_test):\n",
    "    BasicPd.append(BasicOut[test_user[r]][test_business[r]]) \n",
    "\n",
    "BasicPd_rmse = mean_squared_error(test_rating, BasicPd)  \n",
    "\n",
    "print BasicPd_rmse"
   ]
  },
  {
   "cell_type": "markdown",
   "metadata": {},
   "source": [
    "<h1>Topic Model</h1>"
   ]
  },
  {
   "cell_type": "code",
   "execution_count": 10,
   "metadata": {
    "collapsed": false
   },
   "outputs": [],
   "source": [
    "Breview = [\"\"]*num_business\n",
    "for r in xrange(num_train):\n",
    "    Breview[train_business[r]] += prep(train_text[r])\n",
    "\n",
    "tf_vectorizer = CountVectorizer(max_df=0.95, min_df=2, max_features=DocWord, stop_words='english')\n",
    "tf = tf_vectorizer.fit_transform(Breview)\n",
    "\n",
    "lda = LatentDirichletAllocation(n_topics=DocTopic, max_iter=5, learning_method='online',learning_offset=50.,random_state=0)\n",
    "DocTopDist = lda.fit_transform(tf)\n"
   ]
  },
  {
   "cell_type": "code",
   "execution_count": 11,
   "metadata": {
    "collapsed": true
   },
   "outputs": [],
   "source": [
    "row = np.array([])\n",
    "col = np.array([])\n",
    "val = np.array([])\n",
    "\n",
    "# delta -> difference between rating and ubb [u*b], delta2 -> rating boolean\n",
    "delta = csr_matrix((val,(row,col)), shape=(num_user,num_business)).toarray()\n",
    "delta2 = csr_matrix((val,(row,col)), shape=(num_user,num_business)).toarray()\n",
    "for r in xrange(num_train):\n",
    "    delta[train_user[r]][train_business[r]] = train_rating[r] - Ubb[train_user[r]][train_business[r]]\n",
    "    delta2[train_user[r]][train_business[r]] = 1\n"
   ]
  },
  {
   "cell_type": "code",
   "execution_count": 12,
   "metadata": {
    "collapsed": false
   },
   "outputs": [],
   "source": [
    "deltaReg = []\n",
    "for i in xrange(num_user):\n",
    "    X = [[0,0,0,0,0], [1,0,0,0,0], [0,1,0,0,0], [0,0,1,0,0], [0,0,0,1,0], [0,0,0,0,1]]; Y = [0,0,0,0,0,0]\n",
    "    for j in xrange(num_business):\n",
    "        if delta2[i][j]:\n",
    "            X.append(list(DocTopDist[j]))\n",
    "            Y.append(delta[i][j])\n",
    "    coef = MLR(X, Y)\n",
    "    deltaReg.append(np.dot(DocTopDist, coef))\n",
    "    "
   ]
  },
  {
   "cell_type": "code",
   "execution_count": 13,
   "metadata": {
    "collapsed": false
   },
   "outputs": [
    {
     "name": "stdout",
     "output_type": "stream",
     "text": [
      "0.783710558483\n"
     ]
    }
   ],
   "source": [
    "row = np.array([])\n",
    "col = np.array([])\n",
    "val = np.array([])\n",
    "TopicIn = csr_matrix((val,(row,col)), shape=(num_user,num_business)).toarray()\n",
    "for i in xrange(num_user):\n",
    "    for j in xrange(num_business):\n",
    "        val = Ubb[i][j] + lbd0*deltaReg[i][j]\n",
    "        if val < 1: val = 1\n",
    "        if val > 5: val = 5\n",
    "        TopicIn[i][j] = val\n",
    "\n",
    "TopicInPd = []\n",
    "for r in xrange(num_test):\n",
    "    TopicInPd.append(TopicIn[test_user[r]][test_business[r]]) \n",
    "\n",
    "TopicInPd_rmse = mean_squared_error(test_rating, TopicInPd)  \n",
    "print TopicInPd_rmse"
   ]
  },
  {
   "cell_type": "markdown",
   "metadata": {},
   "source": [
    "<h1> Social Model</h1>"
   ]
  },
  {
   "cell_type": "code",
   "execution_count": 14,
   "metadata": {
    "collapsed": false
   },
   "outputs": [],
   "source": [
    "row = np.array([])\n",
    "col = np.array([])\n",
    "val = np.array([])\n",
    "\n",
    "Rij = csr_matrix((val,(row,col)), shape=(num_user,num_business)).toarray()\n",
    "Sij = csr_matrix((val,(row,col)), shape=(num_user,num_business)).toarray()\n",
    "Tij = csr_matrix((val,(row,col)), shape=(num_user,num_user)).toarray()\n",
    "Uij = csr_matrix((val,(row,col)), shape=(num_user,num_user)).toarray()\n",
    "Vij = csr_matrix((val,(row,col)), shape=(num_user,num_user)).toarray()\n",
    "\n",
    "# user-item rating matrix. If ui gives a rating to vj, Rij is the rating score, otherwise 0\n",
    "for r in xrange(num_train):\n",
    "    Rij[train_user[r]][train_business[r]] = train_rating[r] - Ubb[train_user[r]][train_business[r]]\n",
    "    Sij[train_user[r]][train_business[r]] = 1\n",
    "       \n",
    "# user-user social relations where Tij = 1 if ui,uj has a relation and zero otherwise\n",
    "for u in relation:\n",
    "    for f in u[1]:\n",
    "        Tij[u[0]][f] = 1\n",
    "\n",
    "# VIP matrix where Uij = 1 if uj is a VIP and zero otherwise        \n",
    "PR = {}\n",
    "for u in relation:\n",
    "    PR[u[0]] = len(u[1])    \n",
    "sorted_PR = sorted(PR.items(), key=itemgetter(1), reverse=True)\n",
    "rank = {}\n",
    "for u in xrange(num_user):\n",
    "    rank[sorted_PR[u][0]] = u+1\n",
    "Wi = []\n",
    "for u in xrange(num_user):\n",
    "    Wi.append(1.0/(1.0+ math.log(rank[u])))\n",
    "\n",
    "for u in xrange(num_user):\n",
    "    for v in xrange(num_user):\n",
    "        Uij[u][v] = Wi[v]\n",
    "        Vij[u][v] = 1\n",
    "\n",
    "# user-user similarity\n",
    "Cos_norm = []\n",
    "for u in xrange(num_user):\n",
    "    Cos_norm.append(math.sqrt(np.dot(Rij[u], Rij[u])))\n",
    "\n",
    "Cos = np.dot(Rij, Rij.T)\n",
    "for i in xrange(num_user):\n",
    "    for j in xrange(num_user):\n",
    "        if Cos_norm[i] and Cos_norm[j]:\n",
    "            Cos[i][j] = Cos[i][j]/Cos_norm[i]/Cos_norm[j]\n",
    "        else: \n",
    "            Cos[i][j] = 0\n",
    "\n",
    "TR = np.dot(Tij, Rij)\n",
    "TS = np.dot(Tij, Sij)\n",
    "UR = np.dot(Uij, Rij)\n",
    "VS = np.dot(Uij, Sij)\n",
    "CR = np.dot(Cos, Rij)"
   ]
  },
  {
   "cell_type": "code",
   "execution_count": 15,
   "metadata": {
    "collapsed": false
   },
   "outputs": [],
   "source": [
    "row = np.array([])\n",
    "col = np.array([])\n",
    "val = np.array([])\n",
    "Vij1 = csr_matrix((val,(row,col)), shape=(num_user,num_business)).toarray()\n",
    "Vij2 = csr_matrix((val,(row,col)), shape=(num_user,num_business)).toarray()\n",
    "Vij3 = csr_matrix((val,(row,col)), shape=(num_user,num_business)).toarray()\n",
    "\n",
    "\n",
    "for i in xrange(num_user):\n",
    "    for j in xrange(num_business):\n",
    "        if TS[i][j]: Vij1[i][j] = TR[i][j]/TS[i][j]\n",
    "        if VS[i][j]: Vij2[i][j] = UR[i][j]/VS[i][j]\n",
    "        if num_user: Vij3[i][j] = CR[i][j]/num_user \n",
    "\n",
    "row = np.array([])\n",
    "col = np.array([])\n",
    "val = np.array([])\n",
    "SocialIn1 = csr_matrix((val,(row,col)), shape=(num_user,num_business)).toarray()\n",
    "SocialIn2 = csr_matrix((val,(row,col)), shape=(num_user,num_business)).toarray()\n",
    "SocialIn3 = csr_matrix((val,(row,col)), shape=(num_user,num_business)).toarray()\n",
    "\n",
    "for i in xrange(num_user):\n",
    "    for j in xrange(num_business):\n",
    "        val1 = Ubb[i][j] + lbd1*Vij1[i][j]\n",
    "        val2 = Ubb[i][j] + lbd2*Vij2[i][j]\n",
    "        val3 = Ubb[i][j] + lbd3*Vij3[i][j]\n",
    "        \n",
    "        if val1 < 1: val1 = 1\n",
    "        if val1 > 5: val1 = 5\n",
    "        if val2 < 1: val2 = 1\n",
    "        if val2 > 5: val2 = 5\n",
    "        if val3 < 1: val3 = 1\n",
    "        if val3 > 5: val3 = 5\n",
    "            \n",
    "        SocialIn1[i][j] = val1\n",
    "        SocialIn2[i][j] = val2\n",
    "        SocialIn3[i][j] = val3\n",
    "\n",
    "SocialInPd1 = []\n",
    "SocialInPd2 = []\n",
    "SocialInPd3 = []\n",
    "for r in xrange(num_test):\n",
    "    SocialInPd1.append(SocialIn1[test_user[r]][test_business[r]]) \n",
    "    SocialInPd2.append(SocialIn2[test_user[r]][test_business[r]]) \n",
    "    SocialInPd3.append(SocialIn3[test_user[r]][test_business[r]]) \n",
    "\n",
    "SocialInPd_rmse1 = mean_squared_error(test_rating, SocialInPd1)  \n",
    "SocialInPd_rmse2 = mean_squared_error(test_rating, SocialInPd2)  \n",
    "SocialInPd_rmse3 = mean_squared_error(test_rating, SocialInPd3)  \n"
   ]
  },
  {
   "cell_type": "code",
   "execution_count": 16,
   "metadata": {
    "collapsed": false
   },
   "outputs": [
    {
     "name": "stdout",
     "output_type": "stream",
     "text": [
      "relation rmse = 0.780329210043\n",
      "VIP rmse = 0.781866339435\n",
      "similarity rmse = 0.797809961937\n",
      "relation between users dominant rating\n"
     ]
    }
   ],
   "source": [
    "print \"relation rmse =\", SocialInPd_rmse1\n",
    "print \"VIP rmse =\", SocialInPd_rmse2\n",
    "print \"similarity rmse =\", SocialInPd_rmse3\n",
    "\n",
    "if SocialInPd_rmse1 < SocialInPd_rmse2 and SocialInPd_rmse1 < SocialInPd_rmse3:\n",
    "    print \"relation between users dominant rating\"\n",
    "    SocialInPd_rmse = SocialInPd_rmse1\n",
    "elif SocialInPd_rmse2 < SocialInPd_rmse3:\n",
    "    print \"VIP user dominant rating\"\n",
    "    SocialInPd_rmse = SocialInPd_rmse2\n",
    "else:\n",
    "    print \"user similarity dominant rating\"\n",
    "    SocialInPd_rmse = SocialInPd_rmse3\n"
   ]
  },
  {
   "cell_type": "markdown",
   "metadata": {},
   "source": [
    "<h1>Tri-Model</h1>"
   ]
  },
  {
   "cell_type": "code",
   "execution_count": 17,
   "metadata": {
    "collapsed": false
   },
   "outputs": [
    {
     "name": "stdout",
     "output_type": "stream",
     "text": [
      "0.769762695219\n"
     ]
    }
   ],
   "source": [
    "row = np.array([])\n",
    "col = np.array([])\n",
    "val = np.array([])\n",
    "Tri = csr_matrix((val,(row,col)), shape=(num_user,num_business)).toarray()\n",
    "\n",
    "for i in xrange(num_user):\n",
    "    for j in xrange(num_business):\n",
    "        val = Ubb[i][j] + lbd4*deltaReg[i][j] + lbd5*Vij2[i][j]\n",
    "        \n",
    "        if val1 < 1: val1 = 1\n",
    "        if val1 > 5: val1 = 5\n",
    "        if val2 < 1: val2 = 1\n",
    "        if val2 > 5: val2 = 5\n",
    "        if val3 < 1: val3 = 1\n",
    "        if val3 > 5: val3 = 5\n",
    "            \n",
    "        Tri[i][j] = val\n",
    "\n",
    "TriPd = []\n",
    "for r in xrange(num_test):\n",
    "    TriPd.append(Tri[test_user[r]][test_business[r]]) \n",
    "\n",
    "TriPd_rmse = mean_squared_error(test_rating, TriPd)  \n",
    "print TriPd_rmse"
   ]
  },
  {
   "cell_type": "markdown",
   "metadata": {},
   "source": [
    "<h1>Summary</h1>"
   ]
  },
  {
   "cell_type": "code",
   "execution_count": 18,
   "metadata": {
    "collapsed": false,
    "scrolled": true
   },
   "outputs": [
    {
     "name": "stdout",
     "output_type": "stream",
     "text": [
      "Ubb_rmse = 0.797813188355\n",
      "Basic-model_rmse = 0.790739427562\n",
      "TopicIn-model_rmse = 0.783710558483\n",
      "Social-model_rmse = 0.780329210043\n",
      "Tri-model_rmse = 0.769762695219\n"
     ]
    }
   ],
   "source": [
    "print \"Ubb_rmse =\", Ubb_rmse\n",
    "print \"Basic-model_rmse =\", BasicPd_rmse\n",
    "print \"TopicIn-model_rmse =\", TopicInPd_rmse\n",
    "print \"Social-model_rmse =\", SocialInPd_rmse\n",
    "print \"Tri-model_rmse =\", TriPd_rmse"
   ]
  }
 ],
 "metadata": {
  "kernelspec": {
   "display_name": "Python 2",
   "language": "python",
   "name": "python2"
  },
  "language_info": {
   "codemirror_mode": {
    "name": "ipython",
    "version": 2
   },
   "file_extension": ".py",
   "mimetype": "text/x-python",
   "name": "python",
   "nbconvert_exporter": "python",
   "pygments_lexer": "ipython2",
   "version": "2.7.12"
  }
 },
 "nbformat": 4,
 "nbformat_minor": 0
}
