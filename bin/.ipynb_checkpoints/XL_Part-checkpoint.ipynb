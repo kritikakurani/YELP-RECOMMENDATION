{
 "cells": [
  {
   "cell_type": "markdown",
   "metadata": {},
   "source": [
    "## Basic MF model\n",
    "After getting subset of data, which we can compute in limited time and large enough for prediction, the first model we use is the basic SVD model. Officially this model is stated as:\n",
    "\n",
    "$${R}_{i,x}=\\mu + b_i + b_x + U_i^T \\dot V_x$$\n",
    "\n",
    "here, we get*U* and *V* from:\n",
    "\n",
    "$$Min_{U,V} \\sum ((r_{i,x}-R_{i,x})^2 + \\lambda ||U||^2 +\\lambda ||V||^2)$$\n",
    "\n",
    "$r_{i,x}$ is the training data, $R_{i,x}$ is the prediction data, $\\lambda$ is the regularization parameter.\n",
    "\n",
    "The dimention of $U$ is (#users, $k$), $V$ is (#restaurants, $k$), here $k$ is number of laten factors. To determine the proper $k$ for basic model, the following code is programmed and shows the best $k$ for basic model is 30, which is big enough to minimize the RMSE of the training data and minimizes the possible computation assumption; The regularization parameter $\\lambda$ is 0.001\n",
    "\n",
    "In the following code, function *optimized_matrix_factorization* is the one used for SVD computation. In the graph 'RMSE variance along with k', we can see that when k reaches 30, the decreasing of RMSE becomes slow, so 30 is chosen for k, when $\\lambda=0.001$. For other $\\lambda$, such as 0.0005, the result is similar."
   ]
  },
  {
   "cell_type": "code",
   "execution_count": 1,
   "metadata": {
    "collapsed": true
   },
   "outputs": [],
   "source": [
    "#defines svd function 'optimized_matrix_factorization' and rmse calulation function 'rmse_cal'\n",
    "\n",
    "import numpy as np\n",
    "import matplotlib.pyplot as plt\n",
    "import math\n",
    "\n",
    "o = open('../new_5k/rating_subset_training.data', 'r').read()\n",
    "rating = eval(o)\n",
    "\n",
    "#naive python one\n",
    "def matrix_factorization(R, P, Q, K, steps=5000, alpha=0.0002, beta=0.02):\n",
    "    Q = Q.T\n",
    "    for step in xrange(steps):\n",
    "        for i in xrange(len(R)):\n",
    "            for j in xrange(len(R[i])):\n",
    "                if R[i][j] > 0:\n",
    "                    eij = R[i][j] - np.dot(P[i,:],Q[:,j])\n",
    "                    for k in xrange(K):\n",
    "                        P[i][k] = P[i][k] + alpha * (2 * eij * Q[k][j] - beta * P[i][k])\n",
    "                        Q[k][j] = Q[k][j] + alpha * (2 * eij * P[i][k] - beta * Q[k][j])\n",
    "        eR = np.dot(P,Q)\n",
    "        e = 0\n",
    "        for i in xrange(len(R)):\n",
    "            for j in xrange(len(R[i])):\n",
    "                if R[i][j] > 0:\n",
    "                    e = e + pow(R[i][j] - np.dot(P[i,:],Q[:,j]), 2)\n",
    "                    for k in xrange(K):\n",
    "                        e = e + (beta/2) * ( pow(P[i][k],2) + pow(Q[k][j],2) )\n",
    "        if e < 0.001:\n",
    "            break\n",
    "    return P, Q.T\n",
    "\n",
    "def optimized_matrix_factorization(R, P, Q, K, none_zero, steps=5000, alpha=0.0002, beta=0.02):\n",
    "    Q = Q.T\n",
    "    for step in xrange(steps):\n",
    "        eR = np.dot(P,Q);\n",
    "        e = 0;\n",
    "        for p in none_zero:\n",
    "            i=p[0];\n",
    "            j=p[1];\n",
    "            e = e + pow(R[i][j] - eR[i][j], 2)\n",
    "            for k in xrange(K):\n",
    "                e = e + (beta/2) * ( pow(P[i][k],2) + pow(Q[k][j],2) )\n",
    "        if e < 0.001:\n",
    "            break\n",
    "        for p in none_zero:\n",
    "            i=p[0];\n",
    "            j=p[1];\n",
    "            eij = R[i][j] - eR[i][j]\n",
    "            for k in xrange(K):\n",
    "                P[i][k] = P[i][k] + alpha * (2 * eij * Q[k][j] - beta * P[i][k])\n",
    "                Q[k][j] = Q[k][j] + alpha * (2 * eij * P[i][k] - beta * Q[k][j])\n",
    "    return P, Q.T\n",
    "\n",
    "def rmse_cal(R,P,Q,none_zero,num):\n",
    "    Q=Q.T;\n",
    "    r=np.dot(P,Q);\n",
    "    error=0;\n",
    "    for p in none_zero:\n",
    "        i=p[0];\n",
    "        j=p[1];\n",
    "        error+=(R[i][j]-r[i][j])*(R[i][j]-r[i][j]);\n",
    "    error=math.sqrt(error/num);\n",
    "    return error;"
   ]
  },
  {
   "cell_type": "code",
   "execution_count": 2,
   "metadata": {
    "collapsed": false
   },
   "outputs": [
    {
     "name": "stdout",
     "output_type": "stream",
     "text": [
      "[[ 4.34071917  1.76080518  4.11817495  2.16890375]\n",
      " [ 3.29842454  1.28610635  3.02198754  1.39860944]\n",
      " [ 1.85209037  1.38353268  3.06476553  3.96510281]\n",
      " [ 1.43091089  1.18223583  2.60220885  3.60827461]\n",
      " [ 3.98129182  1.98835937  4.5493724   3.78433826]]\n"
     ]
    }
   ],
   "source": [
    "#this is the example of how 'optimized_matrix_factorization' works. R is the rating, P, Q is U, V respectly.\n",
    "#K is the number of laten factors, as we can see, after 200 steps, the prediction value becomes close to the actual value\n",
    "#(only none zero ones)\n",
    "\n",
    "R = [[5,3,0,1],[4,0,0,1],[1,1,0,5],[1,0,0,4],[0,1,5,4],]\n",
    "\n",
    "R = np.array(R)\n",
    "\n",
    "N = len(R)\n",
    "M = len(R[0])\n",
    "K = 2\n",
    "\n",
    "P = np.random.rand(N,K)\n",
    "Q = np.random.rand(M,K)\n",
    "\n",
    "nP, nQ = matrix_factorization(R, P, Q, K,200, 0.001)\n",
    "print np.dot(nP,nQ.T)"
   ]
  },
  {
   "cell_type": "code",
   "execution_count": 3,
   "metadata": {
    "collapsed": true
   },
   "outputs": [],
   "source": [
    "#find out the none zero positions and bx, bi, \\mu, in the equation of the basic mf model\n",
    "#get the rate matrix 'ratemat'\n",
    "\n",
    "from timeit import default_timer as timer\n",
    "\n",
    "user=[];\n",
    "item=[];\n",
    "user2idx={};\n",
    "item2idx={};\n",
    "countuser=0;\n",
    "countitem=0;\n",
    "total=0.;\n",
    "\n",
    "num=1000;\n",
    "steps=200;  #the computation steps\n",
    "begin=2;\n",
    "end=61;\n",
    "none_zero=[];\n",
    "for rate in rating[0:num]:\n",
    "    total+=rate[3];\n",
    "    if rate[1] in user2idx:\n",
    "        useridx=user2idx[rate[1]];\n",
    "        uni=user[useridx];\n",
    "        uni[0]+=rate[3];\n",
    "        uni[1]+=1.;\n",
    "        user[useridx]=uni;\n",
    "    else:\n",
    "        uni=[];\n",
    "        uni.append(0.);\n",
    "        uni.append(1.);\n",
    "        uni[0]+=rate[3];\n",
    "        user.append(uni);\n",
    "        user2idx[rate[1]]=countuser;\n",
    "        countuser+=1;\n",
    "    if rate[2] in item2idx:\n",
    "        itemidx=item2idx[rate[2]];\n",
    "        uni=item[itemidx];\n",
    "        uni[0]+=rate[3];\n",
    "        uni[1]+=1.;\n",
    "        item[itemidx]=uni;\n",
    "    else:\n",
    "        uni=[];\n",
    "        uni.append(0.);\n",
    "        uni.append(1.);\n",
    "        uni[0]+=rate[3];\n",
    "        item.append(uni);\n",
    "        item2idx[rate[2]]=countitem;\n",
    "        countitem+=1;\n",
    "        \n",
    "for x in xrange(countuser):\n",
    "    user[x][0]/=user[x][1];\n",
    "    \n",
    "for i in xrange(countitem):\n",
    "    item[i][0]/=item[i][1];\n",
    "    \n",
    "miu=total/num;\n",
    "ratemat=np.zeros((countuser,countitem));\n",
    "for rate in rating[0:num]:\n",
    "    useridx=user2idx[rate[1]];\n",
    "    itemidx=item2idx[rate[2]];\n",
    "    none_zero.append([useridx,itemidx]);\n",
    "    ratemat[useridx][itemidx]=rate[3]#-(user[useridx][0]+item[itemidx][0]-miu);"
   ]
  },
  {
   "cell_type": "code",
   "execution_count": 4,
   "metadata": {
    "collapsed": false
   },
   "outputs": [
    {
     "name": "stdout",
     "output_type": "stream",
     "text": [
      "finished in 554.645543 s\n"
     ]
    },
    {
     "data": {
      "image/png": "[encoded data removed]",
      "text/plain": [
       "<matplotlib.figure.Figure at 0x4cce2e8>"
      ]
     },
     "metadata": {},
     "output_type": "display_data"
    }
   ],
   "source": [
    "#choose K, when regularization is 0.001\n",
    "#for each k, process SVD and calculate the rmse \n",
    "\n",
    "start = timer()\n",
    "rmse=[];\n",
    "k=begin;\n",
    "K=[];\n",
    "while k <=end:\n",
    "    P = np.random.rand(countuser,k);\n",
    "    Q = np.random.rand(countitem,k);\n",
    "    nP, nQ = optimized_matrix_factorization(ratemat, P, Q, k,none_zero, steps, 0.001)\n",
    "    #nP, nQ = matrix_factorization(ratemat, P, Q, k, steps, 0.001)\n",
    "    error=rmse_cal(ratemat,nP,nQ,none_zero,num);\n",
    "    rmse.append(error);\n",
    "    K.append(k);\n",
    "    k+=3;\n",
    "    \n",
    "dt = timer() - start\n",
    "print \"finished in %f s\" % dt\n",
    "\n",
    "plt.plot(K, rmse, 'ro');\n",
    "plt.xlabel('laten factor number k')\n",
    "plt.ylabel('RMSE')\n",
    "plt.title('RMSE variance along with k')\n",
    "plt.show();"
   ]
  },
  {
   "cell_type": "code",
   "execution_count": 6,
   "metadata": {
    "collapsed": false,
    "scrolled": true
   },
   "outputs": [
    {
     "name": "stdout",
     "output_type": "stream",
     "text": [
      "finished in 1225.350046 s\n"
     ]
    },
    {
     "data": {
      "image/png": "[encoded data removed]",
      "text/plain": [
       "<matplotlib.figure.Figure at 0x6e7dba8>"
      ]
     },
     "metadata": {},
     "output_type": "display_data"
    }
   ],
   "source": [
    "#choose K, when regularization is 0.0001\n",
    "#for each k, process SVD and calculate the rmse\n",
    "#as we can see, the RMSE is really bad when regularization is 0.0005\n",
    "\n",
    "start = timer()\n",
    "rmse=[];\n",
    "k=begin;\n",
    "K=[];\n",
    "while k <=end:\n",
    "    P = np.random.rand(countuser,k);\n",
    "    Q = np.random.rand(countitem,k);\n",
    "    nP, nQ = optimized_matrix_factorization(ratemat, P, Q, k,none_zero, 400, 0.0005)\n",
    "    #nP, nQ = matrix_factorization(ratemat, P, Q, k, steps, 0.001)\n",
    "    error=rmse_cal(ratemat,nP,nQ,none_zero,num);\n",
    "    rmse.append(error);\n",
    "    K.append(k);\n",
    "    k+=3;\n",
    "    \n",
    "dt = timer() - start\n",
    "print \"finished in %f s\" % dt\n",
    "\n",
    "plt.plot(K, rmse, 'ro');\n",
    "plt.xlabel('laten factor number k')\n",
    "plt.ylabel('RMSE')\n",
    "plt.title('RMSE variance along with k')\n",
    "plt.show();"
   ]
  },
  {
   "cell_type": "code",
   "execution_count": 7,
   "metadata": {
    "collapsed": false
   },
   "outputs": [
    {
     "name": "stderr",
     "output_type": "stream",
     "text": [
      "C:\\ProgramData\\Anaconda2\\lib\\site-packages\\ipykernel\\__main__.py:27: DeprecationWarning: using a non-integer number instead of an integer will result in an error in the future\n"
     ]
    },
    {
     "name": "stdout",
     "output_type": "stream",
     "text": [
      "0.0800008837717\n"
     ]
    }
   ],
   "source": [
    "#if steps=100, rate=0.01, num=100,  25 is best for k\n",
    "#if steps=200, rate=0.001, num=500, 30 is best for k\n",
    "#if steps=200, rate=0.001, num=1000, 30 or 40 is best for k\n",
    "\n",
    "#use k as 30, regularization parameter is 0.001 do n-fold to see the performance\n",
    "def performance(P, Q, R, none_zero):\n",
    "    num=len(none_zero)\n",
    "    Q=Q.T;\n",
    "    r=np.dot(P,Q);\n",
    "    error=0;\n",
    "    for p in none_zero:\n",
    "        i=p[0];\n",
    "        j=p[1];\n",
    "        error+=(R[i][j]-r[i][j])*(R[i][j]-r[i][j]);\n",
    "        #print R[i][j]-r[i][j]\n",
    "    error=math.sqrt(error/num);\n",
    "    return error;\n",
    "    \n",
    "n=10;\n",
    "testnum=num*0.1;\n",
    "times=5;\n",
    "total=len(none_zero);\n",
    "k=30;\n",
    "rmse=0.;\n",
    "\n",
    "for x in xrange(times):\n",
    "    chose=np.random.randint(0,total,size=testnum);\n",
    "    not_chose=list(set(range(0,total))-set(chose));\n",
    "    trainmat = np.copy(ratemat)\n",
    "    train_none_zero=list(none_zero[i] for i in not_chose);\n",
    "    for p in chose:\n",
    "        i=none_zero[p][0];\n",
    "        j=none_zero[p][1];\n",
    "        trainmat[i][j]=0;\n",
    "    test_none_zero=list(none_zero[i] for i in chose);\n",
    "    P = np.random.rand(countuser,k);\n",
    "    Q = np.random.rand(countitem,k);\n",
    "    nP, nQ = matrix_factorization(trainmat, P, Q, k, steps, 0.001);\n",
    "    #nP, nQ = changed_matrix_factorization(ratemat, P, Q, k, train_none_zero, steps, 0.01);\n",
    "    rmse+=performance(nP,nQ,ratemat,train_none_zero);\n",
    "    \n",
    "print rmse/times;"
   ]
  },
  {
   "cell_type": "markdown",
   "metadata": {},
   "source": [
    "## Social MF\n",
    "### why social mf:\n",
    "The pervasive usage of social media allows users to participate in online activities which produce a large amount of social relations such as trust relations in Epinions. Users in the physical world are likely to ask for suggestions from their local friends while they also tend to seek suggestions from users with high global reputations, indicating both local and global views of social relations can be potentially exploited to improve the performance of online recommender systems.\n",
    "### how social mf:\n",
    "*exploiting local social context:*\n",
    "Users with similar tastes are more likely to be socially connected, and social influence suggests that users that are socially connected are more likely to share similar tastes. However, the low cost of social relation formation can lead to social relations with heterogeneous strengths. Since users with strong ties are more likely to share similar tastes than those with weak ties, treating all social relations equally is likely to lead to degradation in recommendation performance. We should\n",
    "consider heterogeneous strengths when exploiting local social context for recommendation. We simply use the rating cosine similarity to measure the social relation strength. The local social model is below:\n",
    "\n",
    "$$Min_{U,H} \\sum_{i=1}^n \\sum_{U_k \\in N_i} (S_{i,k}-U_i^THU_k)^2$$\n",
    "\n",
    "Here $U$ is the similar one in basic model. $H$ is the importance matrx. $S_{i,k}$ is the cosine similarity of user $i$, $k$, $N_i$ is the list of friends of user $i$\n",
    "*exploiting global social context:*\n",
    "user reputation plays an important role in recommendation and many companies employ people with high reputations to enhance consumers’ awareness and understanding of their products. Suggestions from people with high reputations positively affect a consumer’s adoption of a brand. Hence, global model is below:\n",
    "\n",
    "$$Min_{U,V} \\sum_{i,x} w_i (R_{i,x}-U_i^T V_x)^2$$\n",
    "\n",
    "Here, $w_i$ indicates the importance of a user, Page rank is a brilliant way to calculate the importance of pages, similarly, we can apply it into the social graph and compute the importance of users. $w_i$ can be defined as:\n",
    "\n",
    "$$w_i=\\frac{1}{1+log(r_i)}$$\n",
    "\n",
    "Here, $r_i$ is the page rank order of user $i$.\n",
    "\n",
    "*combination of global and local context:*\n",
    "\n",
    "$$Min_{U,H,V} \\sum_{i,x} w_i (R_{i,x}-U_i^T V_x)^2 + \\sum_{i=1}^n \\sum_{U_k \\in N_i} (S_{i,k}-U_i^THU_k)^2$$"
   ]
  },
  {
   "cell_type": "code",
   "execution_count": 2,
   "metadata": {
    "collapsed": false
   },
   "outputs": [],
   "source": [
    "f1 = open('../5k-data/review_5k_user', 'r').read()\n",
    "review_5k_user = eval(f1)\n",
    "\n",
    "f2 = open('../5k-data/review_5k_business', 'r').read()\n",
    "review_5k_business = eval(f2)\n",
    "\n",
    "f3 = open('../5k-data/review_5k_rating', 'r').read()\n",
    "review_5k_rating = eval(f3)\n",
    "\n",
    "f4 = open('../5k-data/relation_5k', 'r').read()\n",
    "relation_5k = eval(f4)"
   ]
  },
  {
   "cell_type": "code",
   "execution_count": 3,
   "metadata": {
    "collapsed": true
   },
   "outputs": [],
   "source": [
    "#define the function of SVD and performance calculation\n",
    "\n",
    "import math\n",
    "import numpy as np\n",
    "from scipy.sparse import csr_matrix\n",
    "from sklearn.metrics import mean_squared_error\n",
    "import networkx as nx\n",
    "import matplotlib.pyplot as plt\n",
    "from time import time\n",
    "\n",
    "def social_matrix_factorization(R, P, Q, K, S, H, N, Si, steps=5000, alpha=0.0002, beta=0.02):\n",
    "    Q = Q.T\n",
    "    for step in xrange(steps):\n",
    "        for i in xrange(len(R)):\n",
    "            for j in xrange(len(R[i])):\n",
    "                if R[i][j] > 0:\n",
    "                    eij = R[i][j] - np.dot(P[i,:],Q[:,j])\n",
    "                    for k in xrange(K):\n",
    "                        P[i][k] = P[i][k] + alpha * (2 * eij * Q[k][j] * S[i][j] - beta * P[i][k])\n",
    "                        Q[k][j] = Q[k][j] + alpha * (2 * eij * P[i][k] * S[i][j]- beta * Q[k][j])\n",
    "            for m in N[i]:\n",
    "                Eim=Si[i][m]-np.sum(P[i,:]*H*P[j,:]);\n",
    "                for k in xrange(K):\n",
    "                    P[i][k]=P[i][k]+alpha*(2 * Eim * beta * H[k] * P[m][k]);\n",
    "                    H[k]=H[k]+ alpha*(2 * Eim * beta * P[i][k] * P[m][k]);\n",
    "        eR = np.dot(P,Q)\n",
    "        e = 0\n",
    "        E= 0\n",
    "        for i in xrange(len(R)):\n",
    "            for j in xrange(len(R[i])):\n",
    "                if R[i][j] > 0:\n",
    "                    e = e + pow(R[i][j] - np.dot(P[i,:],Q[:,j]), 2)\n",
    "                    for k in xrange(K):\n",
    "                        e = e + (beta/2) * ( pow(P[i][k],2) + pow(Q[k][j],2) )\n",
    "            for m in N[i]:\n",
    "                E = E + pow(Si[i][m]-np.sum(P[i,:]*H*P[j,:]),2);\n",
    "        if e + E/2 < 0.001:\n",
    "            break\n",
    "    return P, Q.T, H\n",
    "\n",
    "def performance(P, Q, R, none_zero):\n",
    "    num=len(none_zero)\n",
    "    Q=Q.T;\n",
    "    r=np.dot(P,Q);\n",
    "    error=0;\n",
    "    for p in none_zero:\n",
    "        i=p[0];\n",
    "        j=p[1];\n",
    "        error+=(R[i][j]-r[i][j])*(R[i][j]-r[i][j]);\n",
    "        #print R[i][j]-r[i][j]\n",
    "    error=math.sqrt(error/num);\n",
    "    return error;"
   ]
  },
  {
   "cell_type": "code",
   "execution_count": 4,
   "metadata": {
    "collapsed": false
   },
   "outputs": [],
   "source": [
    "#calculate page rank score of the social graph Wij and similarity value Sij\n",
    "num_user = 4929\n",
    "num_business = 2686\n",
    "num_review = 49486\n",
    "Nij=[[]]*num_user;\n",
    "\n",
    "for r in relation_5k:\n",
    "    Nij[r[0]]=r[1];\n",
    "    \n",
    "row = np.array([])\n",
    "col = np.array([])\n",
    "val = np.array([])\n",
    "\n",
    "Tij = csr_matrix((val,(row,col)), shape=(num_user,num_user)).toarray()\n",
    "for u in relation_5k:\n",
    "    for f in u[1]:\n",
    "        Tij[u[0]][f] = 1\n",
    "        \n",
    "none_zero=[];\n",
    "Rij = csr_matrix((val,(row,col)), shape=(num_user,num_business)).toarray()\n",
    "for r in xrange(num_review):\n",
    "    Rij[review_5k_user[r]][review_5k_business[r]] = review_5k_rating[r];\n",
    "    none_zero.append([review_5k_user[r],review_5k_business[r]]);\n",
    "    \n",
    "#similarity calculation\n",
    "Sij_norm = []\n",
    "for u in xrange(num_user):\n",
    "    Sij_norm.append(math.sqrt(np.dot(Rij[u], Rij[u])))\n",
    "    \n",
    "Sij = np.dot(Rij, Rij.T)\n",
    "\n",
    "for i in xrange(num_user):\n",
    "    for j in xrange(num_user):\n",
    "        if Sij_norm[i] and Sij_norm[j]:\n",
    "            Sij[i][j] = Sij[i][j]/Sij_norm[i]/Sij_norm[j]\n",
    "        else:\n",
    "            Sij[i][j]=0\n",
    "\n",
    "import networkx as nx\n",
    "\n",
    "node_list = []\n",
    "for u in xrange(num_user):\n",
    "    node_list.append(u)\n",
    "\n",
    "#page rank\n",
    "G=nx.Graph()\n",
    "G.add_nodes_from(node_list)\n",
    "for u in relation_5k:\n",
    "    for f in u[1]:\n",
    "        G.add_edge(u[0], f)\n",
    "PR = nx.pagerank(G)\n",
    "\n",
    "#page rank score Wij calculation\n",
    "from operator import itemgetter\n",
    "sorted_PR = sorted(PR.items(), key=itemgetter(1), reverse=True)\n",
    "rank = {}\n",
    "for u in xrange(num_user):\n",
    "    rank[sorted_PR[u][0]] = u\n",
    "Ri = []\n",
    "for u in xrange(num_user):\n",
    "    Ri.append(rank[u]+1)\n",
    "Wij = csr_matrix((val,(row,col)), shape=(num_user,num_business)).toarray()\n",
    "for i in xrange(num_user):\n",
    "    for j in xrange(num_business):\n",
    "        if Rij[i][j] > 0:\n",
    "            Wij[i][j] = math.sqrt(Ri[i])"
   ]
  },
  {
   "cell_type": "code",
   "execution_count": 6,
   "metadata": {
    "collapsed": false
   },
   "outputs": [
    {
     "name": "stderr",
     "output_type": "stream",
     "text": [
      "C:\\ProgramData\\Anaconda2\\lib\\site-packages\\ipykernel\\__main__.py:11: DeprecationWarning: using a non-integer number instead of an integer will result in an error in the future\n"
     ]
    },
    {
     "name": "stdout",
     "output_type": "stream",
     "text": [
      "1.04159139513\n"
     ]
    }
   ],
   "source": [
    "n=10;\n",
    "testnum=num_review*0.1;\n",
    "times=1;\n",
    "total=len(none_zero);\n",
    "k=8;\n",
    "rmse=0.;\n",
    "steps=10;\n",
    "start=time();\n",
    "true_times=0;\n",
    "for x in xrange(times):\n",
    "    chose=np.random.randint(0,total,size=testnum);\n",
    "    not_chose=list(set(range(0,total))-set(chose));\n",
    "    trainmat = np.copy(Rij)\n",
    "    train_none_zero=list(none_zero[i] for i in not_chose);\n",
    "    for p in chose:\n",
    "        i=none_zero[p][0];\n",
    "        j=none_zero[p][1];\n",
    "        trainmat[i][j]=0;\n",
    "    test_none_zero=list(none_zero[i] for i in chose);\n",
    "    P = np.random.rand(num_user,k);\n",
    "    Q = np.random.rand(num_business,k);\n",
    "    H = np.random.rand(k)\n",
    "    nP, nQ , nH= social_matrix_factorization(trainmat, P, Q, k, Wij, H, Nij, Sij, steps, 0.0002, 0.2);\n",
    "    #nP, nQ = changed_matrix_factorization(ratemat, P, Q, k, train_none_zero, steps, 0.01);\n",
    "    rmse+=performance(nP,nQ,Rij,test_none_zero);\n",
    "    true_times+=1;\n",
    "    if(time()-start>36):\n",
    "        break;\n",
    "    \n",
    "print rmse/true_times;"
   ]
  },
  {
   "cell_type": "markdown",
   "metadata": {},
   "source": [
    "## Topic MF\n",
    "\n",
    "Firstly, the topics we obtain can explain the variation present in ratings and reviews.  Secondly, combining ratings with review text allows us to predict ratings more accurately than approaches that consider either of the two sources of data in isolation.\n",
    "\n",
    "To get the topic distribution of reviews and words, LDA (Latent Dirichlet Allocation) is used. After the review-topic and word-topic distribution matrix. For a particular review, given the word-topic distribution $\\phi$ and topic assignment for each word $z_{d,j}$, (topic assignment for word $j$ in review $d$) and the topic distribution $\\theta$, the probability of a paticualar review is:\n",
    "\n",
    "$$p(\\Gamma|\\theta,\\phi,z)=\\Pi_{d\\in \\Gamma} \\Pi_{j=1}^{N_d} \\theta _{z_{d,j}} \\phi_{z_{d,j},w_{d,j}}$$\n",
    "\n",
    "The Topic MF model is defined as:\n",
    "\n",
    "$$Min_{U,V,\\theta,z} \\sum(r_{i,x}-R_{i,x})^2+\\lambda p(\\Gamma|\\theta,\\phi,z)$$\n",
    "\n",
    "Here $\\lambda$ is the regularization parameter for topic model, to prevent downflow, we use the format of $log$ likeliyhood:\n",
    "\n",
    "$$Min_{U,V,\\theta,z} \\sum(r_{i,x}-R_{i,x})^2 - \\lambda log(p(\\Gamma|\\theta,\\phi,z))$$,\n",
    "\n",
    "That is:\n",
    "\n",
    "$$Min_{U,V,\\theta,z} \\sum(r_{i,x}-R_{i,x})^2 - \\lambda \\sum_{d\\in \\Gamma} \\sum_{j=1}^{N_d}log(\\theta _{z_{d,j}} \\phi_{z_{d,j},w_{d,j}})$$,\n",
    "\n",
    "For Topic model, a C++ program is used to evaluate, below is the python program to show the results of the C++ code"
   ]
  },
  {
   "cell_type": "code",
   "execution_count": 13,
   "metadata": {
    "collapsed": false
   },
   "outputs": [
    {
     "data": {
      "image/png": "[encoded data removed]",
      "text/plain": [
       "<matplotlib.figure.Figure at 0x3fa81588>"
      ]
     },
     "metadata": {},
     "output_type": "display_data"
    }
   ],
   "source": [
    "#regularization, lamda, K are the three parameters to be adjust in Topic Model\n",
    "\n",
    "import math\n",
    "import matplotlib.pyplot as plt\n",
    "\n",
    "#regularization=0, lamda=0.1\n",
    "#vary K\n",
    "\n",
    "k=5;\n",
    "K=[];\n",
    "RM=[];\n",
    "while k<=45:\n",
    "    K.append(k);\n",
    "    rmse=0.;\n",
    "    n=0.;\n",
    "    l=0;\n",
    "    file=\"../code_RecSys13/rs/predictions_k=\"+str(k)+\".out\"\n",
    "    f = open(file);\n",
    "    for line in f.readlines():\n",
    "        if l<44540:\n",
    "            l+=1;\n",
    "            continue;\n",
    "        rs_list=line.split(' ');\n",
    "        err=float(rs_list[2])-float(rs_list[3]);\n",
    "        rmse+=err*err;\n",
    "        n+=1;\n",
    "    RM.append(math.sqrt(rmse/n));\n",
    "    k+=5;\n",
    "\n",
    "plt.plot(K,RM,'o');\n",
    "plt.xlabel('topic number k of LDA')\n",
    "plt.ylabel('RMSE')\n",
    "plt.title('RMSE variance along with k')\n",
    "plt.show();"
   ]
  },
  {
   "cell_type": "code",
   "execution_count": 1,
   "metadata": {
    "collapsed": false
   },
   "outputs": [
    {
     "data": {
      "image/png": "[encoded data removed]",
      "text/plain": [
       "<matplotlib.figure.Figure at 0x4ad6e48>"
      ]
     },
     "metadata": {},
     "output_type": "display_data"
    }
   ],
   "source": [
    "import math\n",
    "import matplotlib.pyplot as plt\n",
    "\n",
    "#K=5, lamda=0.1\n",
    "#vary regularization\n",
    "\n",
    "k=0.005;\n",
    "K=[];\n",
    "RM=[];\n",
    "while k<=0.05:\n",
    "    K.append(k);\n",
    "    rmse=0.;\n",
    "    n=0.;\n",
    "    l=0;\n",
    "    file=\"../code_RecSys13/rs/predictions_l=\"+str(k)+\".out\"\n",
    "    f = open(file);\n",
    "    for line in f.readlines():\n",
    "        if l<44540:\n",
    "            l+=1;\n",
    "            continue;\n",
    "        rs_list=line.split(' ');\n",
    "        err=float(rs_list[2])-float(rs_list[3]);\n",
    "        rmse+=err*err;\n",
    "        n+=1;\n",
    "    RM.append(math.sqrt(rmse/n));\n",
    "    k+=0.005;\n",
    "\n",
    "plt.plot(K,RM,'o');\n",
    "plt.xlabel('regularization parameter')\n",
    "plt.ylabel('RMSE')\n",
    "plt.title('RMSE variance')\n",
    "plt.show();"
   ]
  },
  {
   "cell_type": "code",
   "execution_count": 2,
   "metadata": {
    "collapsed": false
   },
   "outputs": [
    {
     "data": {
      "image/png": "[encoded data removed]",
      "text/plain": [
       "<matplotlib.figure.Figure at 0x7e172b0>"
      ]
     },
     "metadata": {},
     "output_type": "display_data"
    }
   ],
   "source": [
    "import math\n",
    "import matplotlib.pyplot as plt\n",
    "\n",
    "#K=5, regularization=0.035\n",
    "#vary lamda\n",
    "\n",
    "k=0.05;\n",
    "K=[];\n",
    "RM=[];\n",
    "while k<=0.5:\n",
    "    K.append(k);\n",
    "    rmse=0.;\n",
    "    n=0.;\n",
    "    l=0;\n",
    "    file=\"../code_RecSys13/rs/predictions_la=\"+str(k)+\".out\"\n",
    "    f = open(file);\n",
    "    for line in f.readlines():\n",
    "        if l<44540:\n",
    "            l+=1;\n",
    "            continue;\n",
    "        rs_list=line.split(' ');\n",
    "        err=float(rs_list[2])-float(rs_list[3]);\n",
    "        rmse+=err*err;\n",
    "        n+=1;\n",
    "    RM.append(math.sqrt(rmse/n));\n",
    "    k+=0.05;\n",
    "\n",
    "plt.plot(K,RM,'o');\n",
    "plt.xlabel('$\\lambda$')\n",
    "plt.ylabel('RMSE')\n",
    "plt.title('RMSE variance')\n",
    "plt.show();"
   ]
  },
  {
   "cell_type": "code",
   "execution_count": 3,
   "metadata": {
    "collapsed": false
   },
   "outputs": [
    {
     "name": "stdout",
     "output_type": "stream",
     "text": [
      "0.907157138867\n"
     ]
    }
   ],
   "source": [
    "#finally, lamda=0.1, reg=0.035, k=10\n",
    "\n",
    "rmse=0.;\n",
    "n=0.;\n",
    "l=0;\n",
    "file=\"../code_RecSys13/rs/predictions.out\"\n",
    "f = open(file);\n",
    "for line in f.readlines():\n",
    "    if l<44540:\n",
    "        l+=1;\n",
    "        continue;\n",
    "    rs_list=line.split(' ');\n",
    "    err=float(rs_list[2])-float(rs_list[3]);\n",
    "    rmse+=err*err;\n",
    "    n+=1;\n",
    "print math.sqrt(rmse/n);"
   ]
  }
 ],
 "metadata": {
  "kernelspec": {
   "display_name": "Python 2",
   "language": "python",
   "name": "python2"
  },
  "language_info": {
   "codemirror_mode": {
    "name": "ipython",
    "version": 2
   },
   "file_extension": ".py",
   "mimetype": "text/x-python",
   "name": "python",
   "nbconvert_exporter": "python",
   "pygments_lexer": "ipython2",
   "version": "2.7.13"
  }
 },
 "nbformat": 4,
 "nbformat_minor": 2
}
