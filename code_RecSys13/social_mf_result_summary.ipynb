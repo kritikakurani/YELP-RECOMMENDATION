{
 "cells": [
  {
   "cell_type": "code",
   "execution_count": 2,
   "metadata": {
    "collapsed": false
   },
   "outputs": [
    {
     "name": "stdout",
     "output_type": "stream",
     "text": [
      "x5\n"
     ]
    }
   ],
   "source": [
    "print \"x\"+str(5)"
   ]
  },
  {
   "cell_type": "code",
   "execution_count": 18,
   "metadata": {
    "collapsed": false
   },
   "outputs": [
    {
     "data": {
      "image/png": "[encoded data removed]",
      "text/plain": [
       "<matplotlib.figure.Figure at 0x7f38dc82d450>"
      ]
     },
     "metadata": {},
     "output_type": "display_data"
    }
   ],
   "source": [
    "import math\n",
    "import matplotlib.pyplot as plt\n",
    "\n",
    "#regularization=0, lamda=0.1\n",
    "#vary K\n",
    "\n",
    "k=5;\n",
    "K=[];\n",
    "RM=[];\n",
    "while k<=45:\n",
    "    K.append(k);\n",
    "    rmse=0.;\n",
    "    n=0.;\n",
    "    l=0;\n",
    "    file=\"rs/predictions_k=\"+str(k)+\".out\"\n",
    "    f = open(file);\n",
    "    for line in f.readlines():\n",
    "        if l<44540:\n",
    "            l+=1;\n",
    "            continue;\n",
    "        rs_list=line.split(' ');\n",
    "        err=float(rs_list[2])-float(rs_list[3]);\n",
    "        rmse+=err*err;\n",
    "        n+=1;\n",
    "    RM.append(math.sqrt(rmse/n));\n",
    "    k+=5;\n",
    "\n",
    "plt.plot(K,RM,'o');\n",
    "plt.show();"
   ]
  },
  {
   "cell_type": "code",
   "execution_count": 30,
   "metadata": {
    "collapsed": false
   },
   "outputs": [
    {
     "data": {
      "image/png": "[encoded data removed]",
      "text/plain": [
       "<matplotlib.figure.Figure at 0x7f38c9c5c0d0>"
      ]
     },
     "metadata": {},
     "output_type": "display_data"
    }
   ],
   "source": [
    "import math\n",
    "import matplotlib.pyplot as plt\n",
    "\n",
    "#K=5, lamda=0.1\n",
    "#vary regularization\n",
    "\n",
    "k=0.005;\n",
    "K=[];\n",
    "RM=[];\n",
    "while k<=0.05:\n",
    "    K.append(k);\n",
    "    rmse=0.;\n",
    "    n=0.;\n",
    "    l=0;\n",
    "    file=\"rs/predictions_l=\"+str(k)+\".out\"\n",
    "    f = open(file);\n",
    "    for line in f.readlines():\n",
    "        if l<44540:\n",
    "            l+=1;\n",
    "            continue;\n",
    "        rs_list=line.split(' ');\n",
    "        err=float(rs_list[2])-float(rs_list[3]);\n",
    "        rmse+=err*err;\n",
    "        n+=1;\n",
    "    RM.append(math.sqrt(rmse/n));\n",
    "    k+=0.005;\n",
    "\n",
    "plt.plot(K,RM,'o');\n",
    "plt.show();"
   ]
  },
  {
   "cell_type": "code",
   "execution_count": 45,
   "metadata": {
    "collapsed": false
   },
   "outputs": [
    {
     "data": {
      "image/png": "[encoded data removed]",
      "text/plain": [
       "<matplotlib.figure.Figure at 0x7f38c9157e50>"
      ]
     },
     "metadata": {},
     "output_type": "display_data"
    }
   ],
   "source": [
    "import math\n",
    "import matplotlib.pyplot as plt\n",
    "\n",
    "#K=5, regularization=0.035\n",
    "#vary lamda\n",
    "\n",
    "k=0.05;\n",
    "K=[];\n",
    "RM=[];\n",
    "while k<=0.5:\n",
    "    K.append(k);\n",
    "    rmse=0.;\n",
    "    n=0.;\n",
    "    l=0;\n",
    "    file=\"rs/predictions_la=\"+str(k)+\".out\"\n",
    "    f = open(file);\n",
    "    for line in f.readlines():\n",
    "        if l<44540:\n",
    "            l+=1;\n",
    "            continue;\n",
    "        rs_list=line.split(' ');\n",
    "        err=float(rs_list[2])-float(rs_list[3]);\n",
    "        rmse+=err*err;\n",
    "        n+=1;\n",
    "    RM.append(math.sqrt(rmse/n));\n",
    "    k+=0.05;\n",
    "\n",
    "plt.plot(K,RM,'o');\n",
    "plt.show();"
   ]
  },
  {
   "cell_type": "code",
   "execution_count": 47,
   "metadata": {
    "collapsed": false
   },
   "outputs": [
    {
     "name": "stdout",
     "output_type": "stream",
     "text": [
      "0.907157138867\n"
     ]
    }
   ],
   "source": [
    "#finally, lamda=0.1, reg=0.035, k=10\n",
    "\n",
    "rmse=0.;\n",
    "n=0.;\n",
    "l=0;\n",
    "file=\"rs/predictions.out\"\n",
    "f = open(file);\n",
    "for line in f.readlines():\n",
    "    if l<44540:\n",
    "        l+=1;\n",
    "        continue;\n",
    "    rs_list=line.split(' ');\n",
    "    err=float(rs_list[2])-float(rs_list[3]);\n",
    "    rmse+=err*err;\n",
    "    n+=1;\n",
    "print math.sqrt(rmse/n);"
   ]
  }
 ],
 "metadata": {
  "kernelspec": {
   "display_name": "Python 2",
   "language": "python",
   "name": "python2"
  },
  "language_info": {
   "codemirror_mode": {
    "name": "ipython",
    "version": 2
   },
   "file_extension": ".py",
   "mimetype": "text/x-python",
   "name": "python",
   "nbconvert_exporter": "python",
   "pygments_lexer": "ipython2",
   "version": "2.7.13"
  }
 },
 "nbformat": 4,
 "nbformat_minor": 2
}
